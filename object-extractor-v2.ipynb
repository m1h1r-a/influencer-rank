{
 "cells": [
  {
   "cell_type": "code",
   "execution_count": 1,
   "id": "a00ce864",
   "metadata": {
    "_cell_guid": "b1076dfc-b9ad-4769-8c92-a6c4dae69d19",
    "_uuid": "8f2839f25d086af736a60e9eeb907d3b93b6e0e5",
    "execution": {
     "iopub.execute_input": "2025-09-17T00:54:44.261783Z",
     "iopub.status.busy": "2025-09-17T00:54:44.261494Z",
     "iopub.status.idle": "2025-09-17T00:56:15.667000Z",
     "shell.execute_reply": "2025-09-17T00:56:15.666171Z"
    },
    "papermill": {
     "duration": 91.410502,
     "end_time": "2025-09-17T00:56:15.668589",
     "exception": false,
     "start_time": "2025-09-17T00:54:44.258087",
     "status": "completed"
    },
    "tags": []
   },
   "outputs": [
    {
     "name": "stdout",
     "output_type": "stream",
     "text": [
      "\u001b[2K   \u001b[90m━━━━━━━━━━━━━━━━━━━━━━━━━━━━━━━━━━━━━━━━\u001b[0m \u001b[32m1.1/1.1 MB\u001b[0m \u001b[31m19.9 MB/s\u001b[0m eta \u001b[36m0:00:00\u001b[0m\r\n",
      "\u001b[2K   \u001b[90m━━━━━━━━━━━━━━━━━━━━━━━━━━━━━━━━━━━━━━━━\u001b[0m \u001b[32m363.4/363.4 MB\u001b[0m \u001b[31m4.7 MB/s\u001b[0m eta \u001b[36m0:00:00\u001b[0m\r\n",
      "\u001b[2K   \u001b[90m━━━━━━━━━━━━━━━━━━━━━━━━━━━━━━━━━━━━━━━━\u001b[0m \u001b[32m13.8/13.8 MB\u001b[0m \u001b[31m77.4 MB/s\u001b[0m eta \u001b[36m0:00:00\u001b[0m\r\n",
      "\u001b[2K   \u001b[90m━━━━━━━━━━━━━━━━━━━━━━━━━━━━━━━━━━━━━━━━\u001b[0m \u001b[32m24.6/24.6 MB\u001b[0m \u001b[31m61.9 MB/s\u001b[0m eta \u001b[36m0:00:00\u001b[0m\r\n",
      "\u001b[2K   \u001b[90m━━━━━━━━━━━━━━━━━━━━━━━━━━━━━━━━━━━━━━━━\u001b[0m \u001b[32m883.7/883.7 kB\u001b[0m \u001b[31m38.6 MB/s\u001b[0m eta \u001b[36m0:00:00\u001b[0m\r\n",
      "\u001b[2K   \u001b[90m━━━━━━━━━━━━━━━━━━━━━━━━━━━━━━━━━━━━━━━━\u001b[0m \u001b[32m664.8/664.8 MB\u001b[0m \u001b[31m2.4 MB/s\u001b[0m eta \u001b[36m0:00:00\u001b[0m\r\n",
      "\u001b[2K   \u001b[90m━━━━━━━━━━━━━━━━━━━━━━━━━━━━━━━━━━━━━━━━\u001b[0m \u001b[32m211.5/211.5 MB\u001b[0m \u001b[31m1.9 MB/s\u001b[0m eta \u001b[36m0:00:00\u001b[0m\r\n",
      "\u001b[2K   \u001b[90m━━━━━━━━━━━━━━━━━━━━━━━━━━━━━━━━━━━━━━━━\u001b[0m \u001b[32m56.3/56.3 MB\u001b[0m \u001b[31m28.2 MB/s\u001b[0m eta \u001b[36m0:00:00\u001b[0m\r\n",
      "\u001b[2K   \u001b[90m━━━━━━━━━━━━━━━━━━━━━━━━━━━━━━━━━━━━━━━━\u001b[0m \u001b[32m127.9/127.9 MB\u001b[0m \u001b[31m12.1 MB/s\u001b[0m eta \u001b[36m0:00:00\u001b[0m\r\n",
      "\u001b[2K   \u001b[90m━━━━━━━━━━━━━━━━━━━━━━━━━━━━━━━━━━━━━━━━\u001b[0m \u001b[32m207.5/207.5 MB\u001b[0m \u001b[31m7.4 MB/s\u001b[0m eta \u001b[36m0:00:00\u001b[0m\r\n",
      "\u001b[2K   \u001b[90m━━━━━━━━━━━━━━━━━━━━━━━━━━━━━━━━━━━━━━━━\u001b[0m \u001b[32m21.1/21.1 MB\u001b[0m \u001b[31m40.6 MB/s\u001b[0m eta \u001b[36m0:00:00\u001b[0m\r\n",
      "\u001b[?25h"
     ]
    }
   ],
   "source": [
    "!pip install ultralytics pandas tqdm -q"
   ]
  },
  {
   "cell_type": "code",
   "execution_count": 2,
   "id": "f4fadcb5",
   "metadata": {
    "execution": {
     "iopub.execute_input": "2025-09-17T00:56:15.723210Z",
     "iopub.status.busy": "2025-09-17T00:56:15.722934Z",
     "iopub.status.idle": "2025-09-17T00:56:20.841117Z",
     "shell.execute_reply": "2025-09-17T00:56:20.840468Z"
    },
    "papermill": {
     "duration": 5.14616,
     "end_time": "2025-09-17T00:56:20.842570",
     "exception": false,
     "start_time": "2025-09-17T00:56:15.696410",
     "status": "completed"
    },
    "tags": []
   },
   "outputs": [
    {
     "name": "stdout",
     "output_type": "stream",
     "text": [
      "Creating new Ultralytics Settings v0.0.6 file ✅ \n",
      "View Ultralytics Settings with 'yolo settings' or at '/root/.config/Ultralytics/settings.json'\n",
      "Update Settings with 'yolo settings key=value', i.e. 'yolo settings runs_dir=path/to/dir'. For help see https://docs.ultralytics.com/quickstart/#ultralytics-settings.\n"
     ]
    }
   ],
   "source": [
    "import os\n",
    "import csv\n",
    "import ast\n",
    "from pathlib import Path\n",
    "from collections import defaultdict\n",
    "from ultralytics import YOLO\n",
    "from tqdm.auto import tqdm\n",
    "import torch"
   ]
  },
  {
   "cell_type": "code",
   "execution_count": 3,
   "id": "2dc755e5",
   "metadata": {
    "execution": {
     "iopub.execute_input": "2025-09-17T00:56:20.896582Z",
     "iopub.status.busy": "2025-09-17T00:56:20.895765Z",
     "iopub.status.idle": "2025-09-17T00:56:20.899963Z",
     "shell.execute_reply": "2025-09-17T00:56:20.899232Z"
    },
    "papermill": {
     "duration": 0.03193,
     "end_time": "2025-09-17T00:56:20.901180",
     "exception": false,
     "start_time": "2025-09-17T00:56:20.869250",
     "status": "completed"
    },
    "tags": []
   },
   "outputs": [],
   "source": [
    "BASE_INPUT_DIR = Path('/kaggle/input/part-1')\n",
    "IMAGE_DIR = BASE_INPUT_DIR / 'images_part1/images_part1'\n",
    "MAPPING_FILE = BASE_INPUT_DIR / 'p1.txt'\n",
    "\n",
    "OUTPUT_CSV = Path('/kaggle/working/part1_objects.csv')"
   ]
  },
  {
   "cell_type": "code",
   "execution_count": 4,
   "id": "843af85d",
   "metadata": {
    "execution": {
     "iopub.execute_input": "2025-09-17T00:56:20.999986Z",
     "iopub.status.busy": "2025-09-17T00:56:20.999666Z",
     "iopub.status.idle": "2025-09-17T00:56:21.008601Z",
     "shell.execute_reply": "2025-09-17T00:56:21.007812Z"
    },
    "papermill": {
     "duration": 0.082426,
     "end_time": "2025-09-17T00:56:21.009927",
     "exception": false,
     "start_time": "2025-09-17T00:56:20.927501",
     "status": "completed"
    },
    "tags": []
   },
   "outputs": [],
   "source": [
    "def load_post_to_image_map(file_path):\n",
    "    \"\"\"\n",
    "    Reads the mapping file and creates a dictionary linking post_id to its username and image files.\n",
    "    \"\"\"\n",
    "    print(f\"Loading post-to-image map from {file_path}...\")\n",
    "    if not file_path.exists():\n",
    "        print(f\"ERROR: Mapping file not found at {file_path}\")\n",
    "        return None\n",
    "    \n",
    "    # datastructure: {post_id: {'username': 'user1', 'images': ['img1.jpg', 'img2.jpg']}}\n",
    "    mapping = {}\n",
    "    with open(file_path, 'r') as f:\n",
    "        for line in f:\n",
    "            parts = line.strip().split('\\t')\n",
    "            if len(parts) == 3:\n",
    "                username = parts[0]\n",
    "                post_id = parts[1].replace('.info', '')\n",
    "                image_list = ast.literal_eval(parts[2])\n",
    "                mapping[post_id] = {'username': username, 'images': image_list}\n",
    "                \n",
    "    print(f\"Loaded {len(mapping)} unique posts.\")\n",
    "    return mapping\n",
    "\n",
    "def load_processed_posts(csv_path):\n",
    "    \"\"\"This function remains the same.\"\"\"\n",
    "    if not csv_path.exists() or os.path.getsize(csv_path) == 0:\n",
    "        return set()\n",
    "    print(f\"Loading previously processed posts from {csv_path}...\")\n",
    "    processed = set()\n",
    "    with open(csv_path, 'r') as f:\n",
    "        reader = csv.reader(f)\n",
    "        try:\n",
    "            next(reader)\n",
    "            for row in reader:\n",
    "                if row:\n",
    "                    processed.add(row[0])\n",
    "        except StopIteration:\n",
    "            return set() \n",
    "    print(f\"Found {len(processed)} posts already processed.\")\n",
    "    return processed"
   ]
  },
  {
   "cell_type": "code",
   "execution_count": 5,
   "id": "8be74020",
   "metadata": {
    "execution": {
     "iopub.execute_input": "2025-09-17T00:56:21.063654Z",
     "iopub.status.busy": "2025-09-17T00:56:21.063391Z",
     "iopub.status.idle": "2025-09-17T02:31:35.659415Z",
     "shell.execute_reply": "2025-09-17T02:31:35.658438Z"
    },
    "papermill": {
     "duration": 5714.624298,
     "end_time": "2025-09-17T02:31:35.660626",
     "exception": false,
     "start_time": "2025-09-17T00:56:21.036328",
     "status": "completed"
    },
    "tags": []
   },
   "outputs": [
    {
     "name": "stdout",
     "output_type": "stream",
     "text": [
      "Using device: cuda\n",
      "Loading post-to-image map from /kaggle/input/part-1/p1.txt...\n",
      "Loaded 149950 unique posts.\n",
      "Loading YOLOv8 model...\n",
      "\u001b[KDownloading https://github.com/ultralytics/assets/releases/download/v8.3.0/yolov8m.pt to 'yolov8m.pt': 100% ━━━━━━━━━━━━ 49.7MB 91.9MB/s 0.5s\n",
      "Model loaded.\n"
     ]
    },
    {
     "data": {
      "application/vnd.jupyter.widget-view+json": {
       "model_id": "246d1b0593d34a00bb9738e78e7fe0f5",
       "version_major": 2,
       "version_minor": 0
      },
      "text/plain": [
       "Processing Posts:   0%|          | 0/149950 [00:00<?, ?it/s]"
      ]
     },
     "metadata": {},
     "output_type": "display_data"
    },
    {
     "name": "stdout",
     "output_type": "stream",
     "text": [
      "\n",
      "Processing complete!\n",
      "Results saved to /kaggle/working/part1_objects.csv\n"
     ]
    }
   ],
   "source": [
    "device = 'cuda' if torch.cuda.is_available() else 'cpu'\n",
    "print(f\"Using device: {device}\")\n",
    "\n",
    "post_to_image_map = load_post_to_image_map(MAPPING_FILE)\n",
    "\n",
    "if post_to_image_map:\n",
    "    processed_posts = load_processed_posts(OUTPUT_CSV)\n",
    "\n",
    "    print(\"Loading YOLOv8 model...\")\n",
    "    model = YOLO('yolov8m.pt')\n",
    "    model.to(device)\n",
    "    print(\"Model loaded.\")\n",
    "\n",
    "    with open(OUTPUT_CSV, 'a', newline='') as f:\n",
    "        writer = csv.writer(f)\n",
    "        if os.path.getsize(OUTPUT_CSV) == 0:\n",
    "            writer.writerow(['post_id', 'detected_objects'])\n",
    "\n",
    "        for post_id, post_data in tqdm(post_to_image_map.items(), desc=\"Processing Posts\"):\n",
    "            if post_id in processed_posts:\n",
    "                continue\n",
    "\n",
    "            username = post_data['username']\n",
    "            image_files = post_data['images']\n",
    "            \n",
    "            image_paths_to_process = []\n",
    "            for img_file in image_files:\n",
    "\n",
    "                correct_filename = f\"{username}-{img_file}\"\n",
    "                path = IMAGE_DIR / correct_filename\n",
    "                if path.exists():\n",
    "                    image_paths_to_process.append(path)\n",
    "\n",
    "            if not image_paths_to_process:\n",
    "                continue\n",
    "\n",
    "            all_objects_for_post = set()\n",
    "            try:\n",
    "                results = model(image_paths_to_process, verbose=False, device=device)\n",
    "                for res in results:\n",
    "                    class_names = res.names\n",
    "                    for c in res.boxes.cls:\n",
    "                        all_objects_for_post.add(class_names[int(c)])\n",
    "            except Exception as e:\n",
    "                print(f\"ERROR processing post {post_id}. Error: {e}\")\n",
    "                continue\n",
    "            \n",
    "            writer.writerow([post_id, sorted(list(all_objects_for_post))])\n",
    "            f.flush()\n",
    "\n",
    "    print(\"\\nProcessing complete!\")\n",
    "    print(f\"Results saved to {OUTPUT_CSV}\")\n",
    "else:\n",
    "    print(\"Could not load post-to-image map. Aborting.\")"
   ]
  }
 ],
 "metadata": {
  "kaggle": {
   "accelerator": "nvidiaTeslaT4",
   "dataSources": [
    {
     "datasetId": 8282178,
     "sourceId": 13077040,
     "sourceType": "datasetVersion"
    }
   ],
   "dockerImageVersionId": 31090,
   "isGpuEnabled": true,
   "isInternetEnabled": true,
   "language": "python",
   "sourceType": "notebook"
  },
  "kernelspec": {
   "display_name": "Python 3",
   "language": "python",
   "name": "python3"
  },
  "language_info": {
   "codemirror_mode": {
    "name": "ipython",
    "version": 3
   },
   "file_extension": ".py",
   "mimetype": "text/x-python",
   "name": "python",
   "nbconvert_exporter": "python",
   "pygments_lexer": "ipython3",
   "version": "3.11.13"
  },
  "papermill": {
   "default_parameters": {},
   "duration": 5819.055826,
   "end_time": "2025-09-17T02:31:37.417257",
   "environment_variables": {},
   "exception": null,
   "input_path": "__notebook__.ipynb",
   "output_path": "__notebook__.ipynb",
   "parameters": {},
   "start_time": "2025-09-17T00:54:38.361431",
   "version": "2.6.0"
  },
  "widgets": {
   "application/vnd.jupyter.widget-state+json": {
    "state": {
     "01367729f60a44e2a45a1502a33b19d8": {
      "model_module": "@jupyter-widgets/base",
      "model_module_version": "2.0.0",
      "model_name": "LayoutModel",
      "state": {
       "_model_module": "@jupyter-widgets/base",
       "_model_module_version": "2.0.0",
       "_model_name": "LayoutModel",
       "_view_count": null,
       "_view_module": "@jupyter-widgets/base",
       "_view_module_version": "2.0.0",
       "_view_name": "LayoutView",
       "align_content": null,
       "align_items": null,
       "align_self": null,
       "border_bottom": null,
       "border_left": null,
       "border_right": null,
       "border_top": null,
       "bottom": null,
       "display": null,
       "flex": null,
       "flex_flow": null,
       "grid_area": null,
       "grid_auto_columns": null,
       "grid_auto_flow": null,
       "grid_auto_rows": null,
       "grid_column": null,
       "grid_gap": null,
       "grid_row": null,
       "grid_template_areas": null,
       "grid_template_columns": null,
       "grid_template_rows": null,
       "height": null,
       "justify_content": null,
       "justify_items": null,
       "left": null,
       "margin": null,
       "max_height": null,
       "max_width": null,
       "min_height": null,
       "min_width": null,
       "object_fit": null,
       "object_position": null,
       "order": null,
       "overflow": null,
       "padding": null,
       "right": null,
       "top": null,
       "visibility": null,
       "width": null
      }
     },
     "0a818169878b49cbb0e83de6e821a2d0": {
      "model_module": "@jupyter-widgets/controls",
      "model_module_version": "2.0.0",
      "model_name": "HTMLStyleModel",
      "state": {
       "_model_module": "@jupyter-widgets/controls",
       "_model_module_version": "2.0.0",
       "_model_name": "HTMLStyleModel",
       "_view_count": null,
       "_view_module": "@jupyter-widgets/base",
       "_view_module_version": "2.0.0",
       "_view_name": "StyleView",
       "background": null,
       "description_width": "",
       "font_size": null,
       "text_color": null
      }
     },
     "246d1b0593d34a00bb9738e78e7fe0f5": {
      "model_module": "@jupyter-widgets/controls",
      "model_module_version": "2.0.0",
      "model_name": "HBoxModel",
      "state": {
       "_dom_classes": [],
       "_model_module": "@jupyter-widgets/controls",
       "_model_module_version": "2.0.0",
       "_model_name": "HBoxModel",
       "_view_count": null,
       "_view_module": "@jupyter-widgets/controls",
       "_view_module_version": "2.0.0",
       "_view_name": "HBoxView",
       "box_style": "",
       "children": [
        "IPY_MODEL_ce58df6632184df1a662343d9a4892fa",
        "IPY_MODEL_e7c86760758b487ab15e42c89ca590cf",
        "IPY_MODEL_8678a48d889642d99c305864c546f6ab"
       ],
       "layout": "IPY_MODEL_2efeb1e44b24475d8151c5f966405db8",
       "tabbable": null,
       "tooltip": null
      }
     },
     "2efeb1e44b24475d8151c5f966405db8": {
      "model_module": "@jupyter-widgets/base",
      "model_module_version": "2.0.0",
      "model_name": "LayoutModel",
      "state": {
       "_model_module": "@jupyter-widgets/base",
       "_model_module_version": "2.0.0",
       "_model_name": "LayoutModel",
       "_view_count": null,
       "_view_module": "@jupyter-widgets/base",
       "_view_module_version": "2.0.0",
       "_view_name": "LayoutView",
       "align_content": null,
       "align_items": null,
       "align_self": null,
       "border_bottom": null,
       "border_left": null,
       "border_right": null,
       "border_top": null,
       "bottom": null,
       "display": null,
       "flex": null,
       "flex_flow": null,
       "grid_area": null,
       "grid_auto_columns": null,
       "grid_auto_flow": null,
       "grid_auto_rows": null,
       "grid_column": null,
       "grid_gap": null,
       "grid_row": null,
       "grid_template_areas": null,
       "grid_template_columns": null,
       "grid_template_rows": null,
       "height": null,
       "justify_content": null,
       "justify_items": null,
       "left": null,
       "margin": null,
       "max_height": null,
       "max_width": null,
       "min_height": null,
       "min_width": null,
       "object_fit": null,
       "object_position": null,
       "order": null,
       "overflow": null,
       "padding": null,
       "right": null,
       "top": null,
       "visibility": null,
       "width": null
      }
     },
     "8678a48d889642d99c305864c546f6ab": {
      "model_module": "@jupyter-widgets/controls",
      "model_module_version": "2.0.0",
      "model_name": "HTMLModel",
      "state": {
       "_dom_classes": [],
       "_model_module": "@jupyter-widgets/controls",
       "_model_module_version": "2.0.0",
       "_model_name": "HTMLModel",
       "_view_count": null,
       "_view_module": "@jupyter-widgets/controls",
       "_view_module_version": "2.0.0",
       "_view_name": "HTMLView",
       "description": "",
       "description_allow_html": false,
       "layout": "IPY_MODEL_b63d3555ae144687a2fe83342a890f0c",
       "placeholder": "​",
       "style": "IPY_MODEL_a9af7e039b93420ea41ab07eaafa7748",
       "tabbable": null,
       "tooltip": null,
       "value": " 149950/149950 [1:35:11&lt;00:00, 31.07it/s]"
      }
     },
     "895ae0df5d09484a8fdc2dede5604768": {
      "model_module": "@jupyter-widgets/controls",
      "model_module_version": "2.0.0",
      "model_name": "ProgressStyleModel",
      "state": {
       "_model_module": "@jupyter-widgets/controls",
       "_model_module_version": "2.0.0",
       "_model_name": "ProgressStyleModel",
       "_view_count": null,
       "_view_module": "@jupyter-widgets/base",
       "_view_module_version": "2.0.0",
       "_view_name": "StyleView",
       "bar_color": null,
       "description_width": ""
      }
     },
     "a9af7e039b93420ea41ab07eaafa7748": {
      "model_module": "@jupyter-widgets/controls",
      "model_module_version": "2.0.0",
      "model_name": "HTMLStyleModel",
      "state": {
       "_model_module": "@jupyter-widgets/controls",
       "_model_module_version": "2.0.0",
       "_model_name": "HTMLStyleModel",
       "_view_count": null,
       "_view_module": "@jupyter-widgets/base",
       "_view_module_version": "2.0.0",
       "_view_name": "StyleView",
       "background": null,
       "description_width": "",
       "font_size": null,
       "text_color": null
      }
     },
     "b63d3555ae144687a2fe83342a890f0c": {
      "model_module": "@jupyter-widgets/base",
      "model_module_version": "2.0.0",
      "model_name": "LayoutModel",
      "state": {
       "_model_module": "@jupyter-widgets/base",
       "_model_module_version": "2.0.0",
       "_model_name": "LayoutModel",
       "_view_count": null,
       "_view_module": "@jupyter-widgets/base",
       "_view_module_version": "2.0.0",
       "_view_name": "LayoutView",
       "align_content": null,
       "align_items": null,
       "align_self": null,
       "border_bottom": null,
       "border_left": null,
       "border_right": null,
       "border_top": null,
       "bottom": null,
       "display": null,
       "flex": null,
       "flex_flow": null,
       "grid_area": null,
       "grid_auto_columns": null,
       "grid_auto_flow": null,
       "grid_auto_rows": null,
       "grid_column": null,
       "grid_gap": null,
       "grid_row": null,
       "grid_template_areas": null,
       "grid_template_columns": null,
       "grid_template_rows": null,
       "height": null,
       "justify_content": null,
       "justify_items": null,
       "left": null,
       "margin": null,
       "max_height": null,
       "max_width": null,
       "min_height": null,
       "min_width": null,
       "object_fit": null,
       "object_position": null,
       "order": null,
       "overflow": null,
       "padding": null,
       "right": null,
       "top": null,
       "visibility": null,
       "width": null
      }
     },
     "ce58df6632184df1a662343d9a4892fa": {
      "model_module": "@jupyter-widgets/controls",
      "model_module_version": "2.0.0",
      "model_name": "HTMLModel",
      "state": {
       "_dom_classes": [],
       "_model_module": "@jupyter-widgets/controls",
       "_model_module_version": "2.0.0",
       "_model_name": "HTMLModel",
       "_view_count": null,
       "_view_module": "@jupyter-widgets/controls",
       "_view_module_version": "2.0.0",
       "_view_name": "HTMLView",
       "description": "",
       "description_allow_html": false,
       "layout": "IPY_MODEL_01367729f60a44e2a45a1502a33b19d8",
       "placeholder": "​",
       "style": "IPY_MODEL_0a818169878b49cbb0e83de6e821a2d0",
       "tabbable": null,
       "tooltip": null,
       "value": "Processing Posts: 100%"
      }
     },
     "e7c86760758b487ab15e42c89ca590cf": {
      "model_module": "@jupyter-widgets/controls",
      "model_module_version": "2.0.0",
      "model_name": "FloatProgressModel",
      "state": {
       "_dom_classes": [],
       "_model_module": "@jupyter-widgets/controls",
       "_model_module_version": "2.0.0",
       "_model_name": "FloatProgressModel",
       "_view_count": null,
       "_view_module": "@jupyter-widgets/controls",
       "_view_module_version": "2.0.0",
       "_view_name": "ProgressView",
       "bar_style": "success",
       "description": "",
       "description_allow_html": false,
       "layout": "IPY_MODEL_e85a25ec7fe94a7aa5d722514d75be2e",
       "max": 149950.0,
       "min": 0.0,
       "orientation": "horizontal",
       "style": "IPY_MODEL_895ae0df5d09484a8fdc2dede5604768",
       "tabbable": null,
       "tooltip": null,
       "value": 149950.0
      }
     },
     "e85a25ec7fe94a7aa5d722514d75be2e": {
      "model_module": "@jupyter-widgets/base",
      "model_module_version": "2.0.0",
      "model_name": "LayoutModel",
      "state": {
       "_model_module": "@jupyter-widgets/base",
       "_model_module_version": "2.0.0",
       "_model_name": "LayoutModel",
       "_view_count": null,
       "_view_module": "@jupyter-widgets/base",
       "_view_module_version": "2.0.0",
       "_view_name": "LayoutView",
       "align_content": null,
       "align_items": null,
       "align_self": null,
       "border_bottom": null,
       "border_left": null,
       "border_right": null,
       "border_top": null,
       "bottom": null,
       "display": null,
       "flex": null,
       "flex_flow": null,
       "grid_area": null,
       "grid_auto_columns": null,
       "grid_auto_flow": null,
       "grid_auto_rows": null,
       "grid_column": null,
       "grid_gap": null,
       "grid_row": null,
       "grid_template_areas": null,
       "grid_template_columns": null,
       "grid_template_rows": null,
       "height": null,
       "justify_content": null,
       "justify_items": null,
       "left": null,
       "margin": null,
       "max_height": null,
       "max_width": null,
       "min_height": null,
       "min_width": null,
       "object_fit": null,
       "object_position": null,
       "order": null,
       "overflow": null,
       "padding": null,
       "right": null,
       "top": null,
       "visibility": null,
       "width": null
      }
     }
    },
    "version_major": 2,
    "version_minor": 0
   }
  }
 },
 "nbformat": 4,
 "nbformat_minor": 5
}
